{
 "cells": [
  {
   "cell_type": "code",
   "execution_count": 12,
   "metadata": {},
   "outputs": [
    {
     "name": "stderr",
     "output_type": "stream",
     "text": [
      "/var/folders/gz/vnpk513s6jqdsmmtkp8t0fq80000gn/T/ipykernel_15142/2470948158.py:16: FutureWarning: A value is trying to be set on a copy of a DataFrame or Series through chained assignment using an inplace method.\n",
      "The behavior will change in pandas 3.0. This inplace method will never work because the intermediate object on which we are setting values always behaves as a copy.\n",
      "\n",
      "For example, when doing 'df[col].method(value, inplace=True)', try using 'df.method({col: value}, inplace=True)' or df[col] = df[col].method(value) instead, to perform the operation inplace on the original object.\n",
      "\n",
      "\n",
      "  normalized_colors_df['aliases'].fillna('', inplace=True)\n"
     ]
    },
    {
     "name": "stdout",
     "output_type": "stream",
     "text": [
      "Color mapping completed and saved to 'Color_Normalization_Updated.xlsx'\n"
     ]
    }
   ],
   "source": [
    "import pandas as pd\n",
    "from sklearn.feature_extraction.text import TfidfVectorizer\n",
    "from sklearn.neighbors import NearestNeighbors\n",
    "\n",
    "# Load the spreadsheet\n",
    "file_path = 'Color Normalization.xlsx'\n",
    "excel_data = pd.ExcelFile(file_path)\n",
    "\n",
    "# Load the relevant sheets\n",
    "normalized_colors_df = excel_data.parse('Normalized List of Colors')\n",
    "color_df = excel_data.parse('Color')\n",
    "retailer_colors_df = excel_data.parse('RetailerColors')\n",
    "retailer_garment_colors_df = excel_data.parse('RetailerGarmentColors')\n",
    "\n",
    "# Fill NaN values in aliases with empty strings\n",
    "normalized_colors_df['aliases'].fillna('', inplace=True)\n",
    "\n",
    "# Prepare the training data for the ML model\n",
    "aliases = normalized_colors_df['aliases'].str.replace(\"\\n\", \" \").values\n",
    "colors = normalized_colors_df['colors'].values\n",
    "\n",
    "# Use TF-IDF vectorizer to convert the text into numerical vectors\n",
    "vectorizer = TfidfVectorizer()\n",
    "X_train = vectorizer.fit_transform(aliases)\n",
    "\n",
    "# Build a Nearest Neighbors model to find the closest matching normalized color for any given retailer color\n",
    "nn_model = NearestNeighbors(n_neighbors=3, metric='cosine')\n",
    "nn_model.fit(X_train)\n",
    "\n",
    "# Function to map retailer colors to normalized values\n",
    "def map_colors_batch(input_colors, model, vectorizer, color_labels):\n",
    "    # Convert all input colors at once to their vector representations\n",
    "    color_vectors = vectorizer.transform(input_colors)\n",
    "    # Find the nearest neighbors in the training data for all input colors\n",
    "    distances, indices = model.kneighbors(color_vectors)\n",
    "    # Map the indices to the corresponding color labels\n",
    "    mapped_values = [color_labels[idx[0]] for idx in indices]\n",
    "    return mapped_values\n",
    "\n",
    "# Clean non-string values in 'retailerColors' and 'retailerGarmentColors' columns\n",
    "retailer_colors_df['retailerColors'] = retailer_colors_df['retailerColors'].astype(str)\n",
    "retailer_garment_colors_df['retailerGarmentColors'] = retailer_garment_colors_df['retailerGarmentColors'].astype(str)\n",
    "\n",
    "# Map the retailer colors and retailer garment colors\n",
    "retailer_colors_mapped = map_colors_batch(retailer_colors_df['retailerColors'].values, nn_model, vectorizer, colors)\n",
    "retailer_garment_colors_mapped = map_colors_batch(retailer_garment_colors_df['retailerGarmentColors'].values, nn_model, vectorizer, colors)\n",
    "\n",
    "# Update the dataframes with the mapped values\n",
    "retailer_colors_df['mapped values'] = retailer_colors_mapped\n",
    "retailer_garment_colors_df['mapped value(s)'] = retailer_garment_colors_mapped\n",
    "\n",
    "# Save the updated dataframes to new sheets in the Excel file\n",
    "with pd.ExcelWriter('Color_Normalization_Updated.xlsx') as writer:\n",
    "    retailer_colors_df.to_excel(writer, sheet_name='RetailerColors Mapped', index=False)\n",
    "    retailer_garment_colors_df.to_excel(writer, sheet_name='RetailerGarmentColors Mapped', index=False)\n",
    "\n",
    "print(\"Color mapping completed and saved to 'Color_Normalization_Updated.xlsx'\")\n"
   ]
  }
 ],
 "metadata": {
  "kernelspec": {
   "display_name": "Python 3",
   "language": "python",
   "name": "python3"
  },
  "language_info": {
   "codemirror_mode": {
    "name": "ipython",
    "version": 3
   },
   "file_extension": ".py",
   "mimetype": "text/x-python",
   "name": "python",
   "nbconvert_exporter": "python",
   "pygments_lexer": "ipython3",
   "version": "3.12.2"
  }
 },
 "nbformat": 4,
 "nbformat_minor": 2
}
